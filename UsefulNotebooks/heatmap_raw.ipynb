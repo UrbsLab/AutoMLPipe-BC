{
 "cells": [
  {
   "cell_type": "markdown",
   "metadata": {},
   "source": [
    "# Generates a Feature Importance Rank Heatmap (for AutoMLPipe-BC)\n",
    "\n",
    "\n",
    "This code for this visualization was provided by Sy Hwang in September of 2021.\n"
   ]
  },
  {
   "cell_type": "markdown",
   "metadata": {},
   "source": [
    "## Import Required Packages"
   ]
  },
  {
   "cell_type": "code",
   "execution_count": 35,
   "metadata": {},
   "outputs": [],
   "source": [
    "\n",
    "import pandas as pd\n",
    "pd.set_option('display.max_rows', None)\n",
    "\n",
    "from bokeh.io import output_file, save, export_png\n",
    "from bokeh.models import (BasicTicker, ColorBar, ColumnDataSource,\n",
    "                          ContinuousColorMapper, LinearColorMapper, HoverTool)\n",
    "from bokeh.plotting import figure\n",
    "from bokeh.transform import transform\n",
    "from bokeh.palettes import Cividis256\n",
    "\n",
    "import warnings\n",
    "warnings.filterwarnings('ignore')\n",
    "\n",
    "# Jupyter Notebook Hack: This code ensures that the results of multiple commands within a given cell are all displayed, rather than just the last. \n",
    "from IPython.core.interactiveshell import InteractiveShell\n",
    "InteractiveShell.ast_node_interactivity = \"all\""
   ]
  },
  {
   "cell_type": "markdown",
   "metadata": {},
   "source": [
    "## Set Run Parameters"
   ]
  },
  {
   "cell_type": "code",
   "execution_count": null,
   "metadata": {},
   "outputs": [],
   "source": [
    "experiment_path = \"C:/Users/ryanu/Documents/Analysis/AutoMLPipe_Experiments/hcc_demo\""
   ]
  },
  {
   "cell_type": "code",
   "execution_count": 191,
   "metadata": {},
   "outputs": [],
   "source": [
    "fi_files = [\n",
    "    'XGB_FI.csv',\n",
    "    'LGB_FI.csv',\n",
    "    'GB_FI.csv',\n",
    "    'RF_FI.csv',\n",
    "    'DT_FI.csv',\n",
    "    'NB_FI.csv',\n",
    "    'LR_FI.csv',\n",
    "    'KN_FI.csv',\n",
    "    'ANN_FI.csv',\n",
    "    'SVM_FI.csv',\n",
    "    'ExSTraCS_FI.csv']"
   ]
  },
  {
   "cell_type": "markdown",
   "metadata": {},
   "source": [
    "## Automatically Detect Dataset Names"
   ]
  },
  {
   "cell_type": "code",
   "execution_count": null,
   "metadata": {},
   "outputs": [],
   "source": [
    "# Get dataset paths for all completed dataset analyses in experiment folder\n",
    "datasets = os.listdir(experiment_path)\n",
    "experiment_name = experiment_path.split('/')[-1] #Name of experiment folder\n",
    "datasets.remove('metadata.csv')\n",
    "try:\n",
    "    datasets.remove('jobsCompleted')\n",
    "except:\n",
    "    pass\n",
    "try:\n",
    "    datasets.remove('UsefulNotebooks')\n",
    "except:\n",
    "    pass\n",
    "try:\n",
    "    datasets.remove('logs')\n",
    "    datasets.remove('jobs')\n",
    "except:\n",
    "    pass\n",
    "try:\n",
    "    datasets.remove('DatasetComparisons') #If it has been run previously (overwrite)\n",
    "except:\n",
    "    pass\n",
    "try:\n",
    "    datasets.remove('KeyFileCopy') #If it has been run previously (overwrite)\n",
    "except:\n",
    "    pass\n",
    "try:\n",
    "    datasets.remove(experiment_name+'_ML_Pipeline_Report.pdf') #If it has been run previously (overwrite)\n",
    "except:\n",
    "    pass\n",
    "datasets = sorted(datasets) #ensures consistent ordering of datasets\n",
    "print(\"Analyzed Datasets: \"+str(datasets))"
   ]
  },
  {
   "cell_type": "code",
   "execution_count": 48,
   "metadata": {},
   "outputs": [],
   "source": [
    "fi_dir_48 = 'data/LGHv4_uniformFI/KeyFileCopy/lgh_analysis_train_ryan_48hrvars_noimpute_2021-05-06/results/FI/'\n",
    "fi_dir_all = 'data/LGHv4_uniformFI/KeyFileCopy/lgh_analysis_train_ryan_allvars_noimpute_2021-05-06/results/FI/'"
   ]
  },
  {
   "cell_type": "code",
   "execution_count": 205,
   "metadata": {},
   "outputs": [],
   "source": [
    "series = list()\n",
    "feats = None\n",
    "for f in fi_files:\n",
    "    df = pd.read_csv(fi_dir_all+f)\n",
    "    if not feats:\n",
    "        feats = df.abs().mean().keys().to_list()\n",
    "        series.append(pd.Series(feats, name='feats'))\n",
    "    fi_avgrank = df.abs().mean().rank(ascending=False).values\n",
    "    series.append(pd.Series(fi_avgrank, name=f.partition('_')[0]))\n",
    "\n",
    "finaldf = pd.concat(series, axis=1).set_index('feats')\n",
    "finaldf['MeanRank'] = finaldf.mean(axis=1)\n",
    "finaldf.sort_values(by='MeanRank', inplace=True)\n",
    "finaldf.columns.name = 'algos'\n",
    "inputdf = pd.DataFrame(finaldf.stack(), columns=['ranked']).reset_index()"
   ]
  },
  {
   "cell_type": "code",
   "execution_count": 221,
   "metadata": {},
   "outputs": [
    {
     "data": {
      "text/plain": [
       "'/data2/home/syhw/LGH/FI_All_heatmap.html'"
      ]
     },
     "execution_count": 221,
     "metadata": {},
     "output_type": "execute_result"
    }
   ],
   "source": [
    "source = ColumnDataSource(inputdf)\n",
    "mapper = LinearColorMapper(palette=Cividis256, low=inputdf.ranked.min(), high=inputdf.ranked.max())\n",
    "\n",
    "tools=[\"wheel_zoom\", \"pan\", \"reset\"]\n",
    "p = figure(plot_width=900,\n",
    "            plot_height=1600,\n",
    "            title=\"FI Heatmap (All Variables)\",\n",
    "            x_range=list(finaldf.columns),\n",
    "            y_range=list(reversed(finaldf.index)),\n",
    "            tools=tools,\n",
    "            toolbar_location='left',\n",
    "            x_axis_location=\"above\"\n",
    "            )\n",
    "p.rect(x=\"algos\",\n",
    "        y=\"feats\",\n",
    "        width=1,\n",
    "        height=1,\n",
    "        source=source,\n",
    "        line_color=\"white\",\n",
    "        fill_color={\"field\":\"ranked\", \"transform\": mapper},\n",
    "        )\n",
    "tooltips = [(\"algo\", \"@algos\"),\n",
    "            (\"feature\", \"@feats\"),\n",
    "            (\"rank\", \"@ranked\")]\n",
    "\n",
    "hover = HoverTool(tooltips = tooltips)\n",
    "p.add_tools(hover)\n",
    "p.axis.axis_line_color = None\n",
    "p.axis.major_tick_line_color = None\n",
    "p.axis.major_label_text_font_size = \"14px\"\n",
    "p.title.text_font_size = '24px'\n",
    "p.axis.major_label_standoff = 0\n",
    "p.xaxis.major_label_orientation = 1.0\n",
    "\n",
    "output_file('FI_All_heatmap.html')\n",
    "save(p)"
   ]
  }
 ],
 "metadata": {
  "interpreter": {
   "hash": "1a12a98ae265c92e0b59419562a28d4a83daa07b99af1da9cec83ddf5b471690"
  },
  "kernelspec": {
   "display_name": "Python 3",
   "language": "python",
   "name": "python3"
  },
  "language_info": {
   "codemirror_mode": {
    "name": "ipython",
    "version": 3
   },
   "file_extension": ".py",
   "mimetype": "text/x-python",
   "name": "python",
   "nbconvert_exporter": "python",
   "pygments_lexer": "ipython3",
   "version": "3.8.8"
  }
 },
 "nbformat": 4,
 "nbformat_minor": 2
}
